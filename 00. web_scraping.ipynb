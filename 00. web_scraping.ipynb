{
 "cells": [
  {
   "cell_type": "markdown",
   "id": "a3114a9d",
   "metadata": {},
   "source": [
    "# *Geração da base dados - apartamentos à venda em Fortaleza - CE / ZAP Imóveis*"
   ]
  },
  {
   "cell_type": "code",
   "execution_count": null,
   "id": "c5ef73dc",
   "metadata": {},
   "outputs": [],
   "source": [
    "#Chamando bibliotecas\n",
    "import pandas as pd\n",
    "import time\n",
    "from bs4 import BeautifulSoup\n",
    "from selenium import webdriver\n",
    "from selenium.webdriver.chrome.service import Service\n",
    "from webdriver_manager.chrome import ChromeDriverManager\n",
    "from selenium.webdriver.common.by import By\n",
    "from selenium.common.exceptions import NoSuchElementException"
   ]
  },
  {
   "cell_type": "code",
   "execution_count": null,
   "id": "b31dbf82",
   "metadata": {},
   "outputs": [],
   "source": [
    "#Extraindo o valor de uma página\n",
    "url_inicial = 'https://www.zapimoveis.com.br/venda/apartamentos/ce+fortaleza/'\n",
    "headers = {\n",
    "    'User-Agent': 'Mozilla/5.0 (Windows NT 10.0; Win64; x64) AppleWebKit/537.36 (KHTML, like Gecko) Chrome/91.0.4472.124 Safari/537.36'\n",
    "}"
   ]
  },
  {
   "cell_type": "code",
   "execution_count": null,
   "id": "37124655",
   "metadata": {},
   "outputs": [],
   "source": [
    "#Seletores\n",
    "seletor_card = 'li[data-cy=\"rp-property-cd\"]' \n",
    "seletor_preco = 'p[class=\"text-2-25 text-neutral-120 font-semibold\"]'\n",
    "seletor_tamanho = 'li[data-cy=\"rp-cardProperty-propertyArea-txt\"]'\n",
    "seletor_quartos = 'li[data-cy=\"rp-cardProperty-bedroomQuantity-txt\"]'\n",
    "seletor_banheiros = 'li[data-cy=\"rp-cardProperty-bathroomQuantity-txt\"]'\n",
    "seletor_estacionamento = 'li[data-cy=\"rp-cardProperty-parkingSpacesQuantity-txt\"]'\n",
    "seletor_bairro = 'h2[class=\"text-ellipsis text-2 font-semibold overflow-hidden font-secondary\"]'\n",
    "seletor_especial = 'li[class=\"flex flex-row items-center gap-1 px-1 rounded-1 text-nowrap h-[28px] text-center text-1-75 leading-[28px] [&>svg]:size-2 [&>span]:size-2 shadow-bottom-3 bg-neutral-120 text-neutral-70 justify-center\"]'"
   ]
  },
  {
   "cell_type": "code",
   "execution_count": null,
   "id": "a186ba5d",
   "metadata": {},
   "outputs": [],
   "source": [
    "servico = Service(ChromeDriverManager().install())\n",
    "opcoes = webdriver.ChromeOptions()\n",
    "navegador = webdriver.Chrome(service=servico, options=opcoes)\n",
    "navegador.get(url_inicial)\n",
    "time.sleep(5)\n",
    "try:\n",
    "    seletor_cookies = 'button[id=\"adopt-accept-all-button\"]'\n",
    "    botao_cookies = navegador.find_element(By.CSS_SELECTOR,seletor_cookies)\n",
    "    botao_cookies.click()\n",
    "    print(\"Aceitando Cookies\")\n",
    "    time.sleep(3)\n",
    "except NoSuchElementException:\n",
    "    print(\"Não houve necessidade de aceitar cookies\")\n",
    "pagina_atual =1\n",
    "lista_imoveis = []\n",
    "while True:\n",
    "    print(\"Abrindo página\")\n",
    "    time.sleep(5)\n",
    "    html_completo = navegador.page_source\n",
    "    soup = BeautifulSoup(html_completo, 'html.parser')\n",
    "    todos_os_anuncios = soup.select(seletor_card)\n",
    "    #Função de pegar as informações da página\n",
    "    for anuncio in todos_os_anuncios:\n",
    "        preco = anuncio.select_one(seletor_preco)\n",
    "        if preco:\n",
    "            preco = preco.get_text(strip=True)\n",
    "        else:\n",
    "            preco = \"Valor não encontrado\"\n",
    "        tamanho = anuncio.select_one(seletor_tamanho)\n",
    "        if tamanho:\n",
    "            tamanho = tamanho.get_text(strip=True)\n",
    "        else:\n",
    "            tamanho = \"Valor não encontrado\"\n",
    "        quartos = anuncio.select_one(seletor_quartos)\n",
    "        if quartos:\n",
    "            quartos = quartos.get_text(strip=True)\n",
    "        else:\n",
    "            quartos = \"Valor não encontrado\"\n",
    "        banheiros = anuncio.select_one(seletor_banheiros)\n",
    "        if banheiros:\n",
    "            banheiros = banheiros.get_text(strip=True)\n",
    "        else:\n",
    "            banheiros = \"Valor não encontrado\"\n",
    "        vagas = anuncio.select_one(seletor_estacionamento)\n",
    "        if vagas:\n",
    "            vagas = vagas.get_text(strip=True)\n",
    "        else:\n",
    "            vagas= \"Valor não encontrado\"\n",
    "        bairro = anuncio.select_one(seletor_bairro)\n",
    "        if bairro:\n",
    "            bairro = bairro.get_text(strip=True)\n",
    "        else:\n",
    "            bairro = \"Valor não encontrado\"\n",
    "        dados = {'Preco':preco,\n",
    "                'Tamanho':tamanho,\n",
    "                'Quartos':quartos,\n",
    "                'Banheiros':banheiros,\n",
    "                'Vagas':vagas,\n",
    "                'Bairro':bairro\n",
    "                }\n",
    "        lista_imoveis.append(dados)\n",
    "    #Apertar o botação de cookies e próximo\n",
    "    try:\n",
    "        seletor_botao = 'button[data-testid=\"next-page\"]'\n",
    "        botao_proxima = navegador.find_element(By.CSS_SELECTOR,seletor_botao)\n",
    "        if botao_proxima.is_enabled():\n",
    "            navegador.execute_script(\"arguments[0].scrollIntoView(true)\",botao_proxima)\n",
    "            time.sleep(2)\n",
    "            print(\"Pagina rolada\")\n",
    "            navegador.execute_script(\"arguments[0].click()\",botao_proxima)\n",
    "            pagina_atual+=1\n",
    "        else:\n",
    "            print(\"Fim da paginação\")\n",
    "            break\n",
    "    except NoSuchElementException:\n",
    "        print(\"Fim da paginação 2\")\n",
    "        break\n",
    "navegador.quit()\n",
    "print(\"Navegar encerrado\")"
   ]
  },
  {
   "cell_type": "code",
   "execution_count": null,
   "id": "d0e934a9",
   "metadata": {},
   "outputs": [],
   "source": [
    "print(len(lista_imoveis))"
   ]
  },
  {
   "cell_type": "code",
   "execution_count": null,
   "id": "cff1fe99",
   "metadata": {},
   "outputs": [],
   "source": [
    "print(pagina_atual)"
   ]
  },
  {
   "cell_type": "code",
   "execution_count": null,
   "id": "9eb788e1",
   "metadata": {},
   "outputs": [],
   "source": [
    "df = pd.DataFrame(lista_imoveis)\n",
    "df"
   ]
  },
  {
   "cell_type": "code",
   "execution_count": null,
   "id": "1cb25dde",
   "metadata": {},
   "outputs": [],
   "source": [
    "#Salvando em arquivo CSV\n",
    "nome_do_arquivo = 'imoveis_zap_fortaleza.csv'\n",
    "df.to_csv(nome_do_arquivo, index=False, sep=';', encoding='utf-8-sig')"
   ]
  }
 ],
 "metadata": {
  "kernelspec": {
   "display_name": "projeto-igor-py3.10",
   "language": "python",
   "name": "python3"
  },
  "language_info": {
   "codemirror_mode": {
    "name": "ipython",
    "version": 3
   },
   "file_extension": ".py",
   "mimetype": "text/x-python",
   "name": "python",
   "nbconvert_exporter": "python",
   "pygments_lexer": "ipython3",
   "version": "3.10.11"
  }
 },
 "nbformat": 4,
 "nbformat_minor": 5
}
