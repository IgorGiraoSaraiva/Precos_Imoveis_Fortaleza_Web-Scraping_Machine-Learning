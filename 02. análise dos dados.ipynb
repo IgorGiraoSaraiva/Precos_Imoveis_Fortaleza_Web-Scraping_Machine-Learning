{
 "cells": [
  {
   "cell_type": "code",
   "execution_count": null,
   "id": "cfd2276d",
   "metadata": {},
   "outputs": [],
   "source": [
    "import pandas as pd\n",
    "import seaborn as sns\n",
    "import numpy as np\n",
    "import matplotlib.pyplot as plt\n",
    "import time"
   ]
  },
  {
   "cell_type": "markdown",
   "id": "9bc3ac13",
   "metadata": {},
   "source": [
    "# *1. Visão Geral*"
   ]
  },
  {
   "cell_type": "code",
   "execution_count": null,
   "id": "7b6548cf",
   "metadata": {},
   "outputs": [],
   "source": [
    "df = pd.read_csv('imoveis_zap_fortaleza_ready.csv',sep=';')\n",
    "df.head()"
   ]
  },
  {
   "cell_type": "code",
   "execution_count": null,
   "id": "81a7b56d",
   "metadata": {},
   "outputs": [],
   "source": [
    "#Removendo valores duplicados e nulos\n",
    "df = df.dropna()\n",
    "df = df.drop_duplicates()"
   ]
  },
  {
   "cell_type": "code",
   "execution_count": null,
   "id": "45fbd3e0",
   "metadata": {},
   "outputs": [],
   "source": [
    "round(df.describe(),2)"
   ]
  },
  {
   "cell_type": "markdown",
   "id": "532fc98d",
   "metadata": {},
   "source": [
    "## *1.1 Tratando coluna \"vagas\"*"
   ]
  },
  {
   "cell_type": "code",
   "execution_count": null,
   "id": "78fae2bd",
   "metadata": {},
   "outputs": [],
   "source": [
    "#Dispersão do número de vagas\n",
    "sns.boxplot(df,y='qtd_vagas')"
   ]
  },
  {
   "cell_type": "code",
   "execution_count": null,
   "id": "33c50c8a",
   "metadata": {},
   "outputs": [],
   "source": [
    "#Verificando linhas que possuem muitas vagas\n",
    "df[df['qtd_vagas'] > 5]"
   ]
  },
  {
   "cell_type": "code",
   "execution_count": null,
   "id": "9e2908d6",
   "metadata": {},
   "outputs": [],
   "source": [
    "#Para as linhas com 265, 11 e 85 vagas será adotado o valor \"máximo normal\" de 6 vagas.\n",
    "df.loc[df['qtd_vagas'] > 5, 'qtd_vagas'] = 6\n",
    "#Verificando mundaça\n",
    "df[df['qtd_vagas'] > 5]"
   ]
  },
  {
   "cell_type": "code",
   "execution_count": null,
   "id": "4cc1e822",
   "metadata": {},
   "outputs": [],
   "source": [
    "round(df.describe(),2)"
   ]
  },
  {
   "cell_type": "markdown",
   "id": "e29fad37",
   "metadata": {},
   "source": [
    "# *2. Análise Exploratória dos Dados*"
   ]
  },
  {
   "cell_type": "markdown",
   "id": "cc17e739",
   "metadata": {},
   "source": [
    "## *2.1. Correlação e Associação das variáveis numéricas*  "
   ]
  },
  {
   "cell_type": "markdown",
   "id": "59da0681",
   "metadata": {},
   "source": [
    "* O mercado imobiliário é assimétrico. Dominado por imóveis de valor mais baixo/médio, com uma longa \"cauda\" de imóveis de altíssimo padrão.\n",
    "* Há uma tendência clara: quanto mais quartos e banheiros, mais caro o imóvel. Porém a faixa de preços para imóveis maiores é muito mais ampla.\n",
    "* De 1 a 5 vagas, a tendência de aumento de preço se mantém. Imóveis com 6 vagas tem um comportamento de outlier.\n",
    "* Forte correlação positiva entre tamanho (m²) e quantidade de vagas com o preço do imóvel."
   ]
  },
  {
   "cell_type": "code",
   "execution_count": null,
   "id": "76ce0af1",
   "metadata": {},
   "outputs": [],
   "source": [
    "#Boxplots\n",
    "fig, (ax1,ax2,ax3,ax4) = plt.subplots(nrows=1,\n",
    "                                      ncols=4,\n",
    "                                      figsize=(15,4)\n",
    "                                      )\n",
    "\n",
    "fig.suptitle(\"Comportamento do Preço (em milhões R$) por Característica do Imóvel\")\n",
    "\n",
    "sns.boxplot(df,y='Preco',ax=ax1)\n",
    "sns.boxplot(df,y='Preco',x='qtd_quartos',ax=ax2)\n",
    "sns.boxplot(df,y='Preco',x='qtd_banheiro',ax=ax3)\n",
    "sns.boxplot(df,y='Preco',x='qtd_vagas',ax=ax4)\n",
    "\n",
    "\n",
    "#Corrigindo unidade\n",
    "from matplotlib.ticker import FuncFormatter\n",
    "def milhares_formatter(y, pos):\n",
    "    \"\"\"Formata o eixo y para mostrar valores em milhares.\"\"\"\n",
    "    return f'{int(y / 1000000)}M' # Adiciona um 'k' para indicar milhares\n",
    "\n",
    "#Cria um objeto Formatter a partir da nossa função\n",
    "formatter = FuncFormatter(milhares_formatter)\n",
    "\n",
    "#Aplica o formatador em TODOS os eixos y\n",
    "for ax in [ax1, ax2, ax3, ax4]:\n",
    "    ax.yaxis.set_major_formatter(formatter)\n",
    "    # Também podemos mudar o rótulo do eixo para ficar mais claro\n",
    "    ax.set_ylabel('Preço (milhões de R$)')\n",
    "\n",
    "\n",
    "plt.tight_layout()\n",
    "fig.subplots_adjust(top=.85)\n",
    "plt.show()"
   ]
  },
  {
   "cell_type": "code",
   "execution_count": null,
   "id": "e3bea609",
   "metadata": {},
   "outputs": [],
   "source": [
    "#Gráfico de dispersão preço e tamanho do imóvel\n",
    "fig, ax = plt.subplots(figsize=(8,5))\n",
    "sns.scatterplot(df,x='tamanho (m²)',y='Preco',ax=ax)\n",
    "plt.title(\"Gráfico de Dispersão: Preço do imóvel por m²\")\n",
    "\n",
    "#Corrigindo unidade\n",
    "formatter1 = FuncFormatter(milhares_formatter)\n",
    "\n",
    "ax.yaxis.set_major_formatter(formatter1)\n",
    "ax.set_ylabel('Preço (milhões de R$)')\n",
    "\n",
    "\n",
    "plt.show()"
   ]
  },
  {
   "cell_type": "code",
   "execution_count": null,
   "id": "89a67ae3",
   "metadata": {},
   "outputs": [],
   "source": [
    "#Matriz de correlação de Pearson\n",
    "sns.heatmap(df.corr(numeric_only=True),\n",
    "             annot=True, \n",
    "             vmax=1,vmin=-1,\n",
    "             cmap='coolwarm')"
   ]
  },
  {
   "cell_type": "markdown",
   "id": "76f457ff",
   "metadata": {},
   "source": [
    "## *2.2. Correlação e Associação das variáveis categóricas*  "
   ]
  },
  {
   "cell_type": "markdown",
   "id": "7f18cd6e",
   "metadata": {},
   "source": [
    "* A localização (Bairro) é um fator absolutamente crítico na determinação não apenas do preço, mas também da faixa de variação e do potencial de encontrar imóveis de extremo luxo.\n",
    "* Não existe um mercado único, mas vários sub-mercados: mercado de luxo amplo e volátil do Meireles; o mercado de alto padrão mais estável de bairros como Aldeota e Cocó; e os mercados mais acessíveis como Mondubim e Parque Iracema.\n",
    "* A simples contagem de anúncios já nos mostra os bairros com maior liquidez e atividade de mercado, como Engenheiro Luciano Cavalcante, Cocó, Aldeota e Meireles."
   ]
  },
  {
   "cell_type": "code",
   "execution_count": null,
   "id": "ef8878dd",
   "metadata": {},
   "outputs": [],
   "source": [
    "#Essa verificação evidencia a necessidade de etapas adicionais de tratamento\n",
    "df['Bairro'] = df['Bairro'].str.replace(\"Flat para comprar em\",'')\n",
    "df['Bairro'] = df['Bairro'].str.replace(\"Imóvel para comprar em\",'')\n",
    "df['Bairro'] = df['Bairro'].str.replace(\", Aquiraz\",'')\n",
    "df['Bairro'] = df['Bairro'].str.replace(\"Duplex para comprar em\",'')"
   ]
  },
  {
   "cell_type": "code",
   "execution_count": null,
   "id": "d43d6c1c",
   "metadata": {},
   "outputs": [],
   "source": [
    "df['Bairro']"
   ]
  },
  {
   "cell_type": "code",
   "execution_count": null,
   "id": "ec2e5168",
   "metadata": {},
   "outputs": [],
   "source": [
    "#Tabela de frequência para os bairros\n",
    "tab_freq_bairros = df['Bairro'].value_counts().reset_index()\n",
    "tab_freq_bairros.columns = ['Bairro','Freq.Absoluta']\n",
    "tab_freq_bairros['Freq.Relativa (%)'] = round(100*(tab_freq_bairros['Freq.Absoluta']/tab_freq_bairros['Freq.Absoluta'].sum()),2)\n",
    "tab_freq_bairros['Freq.Acumulada (%)'] =  tab_freq_bairros['Freq.Relativa (%)'].cumsum()\n",
    "tab_freq_bairros"
   ]
  },
  {
   "cell_type": "code",
   "execution_count": null,
   "id": "2e35a482",
   "metadata": {},
   "outputs": [],
   "source": [
    "#Apresentaremos apenas os bairros que representam 80% da nossa amostra\n",
    "tab_freq_bairros[tab_freq_bairros['Freq.Absoluta'] > 10].head(21)"
   ]
  },
  {
   "cell_type": "code",
   "execution_count": null,
   "id": "0c8b381e",
   "metadata": {},
   "outputs": [],
   "source": [
    "#Comportamento do Preço por bairro\n",
    "analise_por_bairro = df.groupby('Bairro')['Preco'].agg(['mean','median','count', 'std']).sort_values('median', ascending=False)\n",
    "\n",
    "# Renomeia as colunas para ficar mais claro\n",
    "analise_por_bairro = analise_por_bairro.rename(columns={\n",
    "    'mean': 'Preco_Medio',\n",
    "    'median': 'Preco_Mediano',\n",
    "    'count': 'Qtd_Imoveis',\n",
    "    'std': 'Dispersao_Precos'\n",
    "})\n",
    "\n",
    "#Ordenando valores em ordem descrescente para preço médio\n",
    "analise_por_bairro = analise_por_bairro.sort_values(by=['Preco_Medio','Qtd_Imoveis'], ascending=[False,False])\n",
    "\n",
    "\n",
    "#Facilitando a leitura\n",
    "colunas_de_preco = ['Preco_Medio','Preco_Mediano', 'Dispersao_Precos']\n",
    "for coluna in colunas_de_preco:\n",
    "    # A mágica acontece aqui:\n",
    "    # 'na_action='ignore'' garante que valores nulos (NaN) não causem erro\n",
    "    analise_por_bairro[coluna] = analise_por_bairro[coluna].map('R$ {:,.2f}'.format, na_action='ignore')\n"
   ]
  },
  {
   "cell_type": "code",
   "execution_count": null,
   "id": "b558b363",
   "metadata": {},
   "outputs": [],
   "source": [
    "#Apresentaremos apenas os 15 primeiros bairros que possuem pelo menos mais de 10 observações\n",
    "analise_por_bairro[analise_por_bairro['Qtd_Imoveis'] > 15].head(15)"
   ]
  },
  {
   "cell_type": "code",
   "execution_count": null,
   "id": "01224690",
   "metadata": {},
   "outputs": [],
   "source": [
    "#Gerando boxplot gráfico de dispersão, apenas para os 15 primeiros bairros com mais observações\n",
    "top_bairros = df['Bairro'].value_counts().nlargest(15).index\n",
    "df_para_plot = df[df['Bairro'].isin(top_bairros)]\n",
    "\n",
    "fig, ax = plt.subplots(figsize=(12, 9)) \n",
    "sns.boxplot(\n",
    "    data=df_para_plot, \n",
    "    x='Preco', \n",
    "    y='Bairro', \n",
    "    ax=ax)\n",
    "\n",
    "ax.set_title('Dispersão de Preços nos 15 Bairros Mais Frequentes', fontsize=16)\n",
    "ax.set_xlabel('Preço')\n",
    "ax.set_ylabel('Bairro')\n",
    "\n",
    "# --- 5. Usa o tight_layout para ajustar tudo automaticamente ---\n",
    "plt.tight_layout()\n",
    "\n",
    "plt.show()"
   ]
  },
  {
   "cell_type": "markdown",
   "id": "0967e283",
   "metadata": {},
   "source": [
    "# *3. Alimentando Modelos Preditivos*\n",
    "* Para os modelos predivitos iremos trabalhar apenas com os bairros mais relevantes(com maior observações)"
   ]
  },
  {
   "cell_type": "markdown",
   "id": "3f1be5fb",
   "metadata": {},
   "source": [
    "### *3.1. Data Prep*"
   ]
  },
  {
   "cell_type": "code",
   "execution_count": null,
   "id": "2e4597cd",
   "metadata": {},
   "outputs": [],
   "source": [
    "from sklearn.model_selection import train_test_split, GridSearchCV\n",
    "from sklearn.metrics import root_mean_squared_error, mean_absolute_error, r2_score"
   ]
  },
  {
   "cell_type": "code",
   "execution_count": null,
   "id": "720fa14f",
   "metadata": {},
   "outputs": [],
   "source": [
    "top_bairros = df['Bairro'].value_counts().nlargest(15).index"
   ]
  },
  {
   "cell_type": "code",
   "execution_count": null,
   "id": "ff851652",
   "metadata": {},
   "outputs": [],
   "source": [
    "top_bairros"
   ]
  },
  {
   "cell_type": "code",
   "execution_count": null,
   "id": "19ceaad7",
   "metadata": {},
   "outputs": [],
   "source": [
    "#Filtrando dados \n",
    "df_ML = df[df['Bairro'].isin(top_bairros)].copy()"
   ]
  },
  {
   "cell_type": "code",
   "execution_count": null,
   "id": "6f1cee29",
   "metadata": {},
   "outputs": [],
   "source": [
    "#Escolhendo o bairro de referência --> Aquele com menor preço médio\n",
    "bairro_referencia = 'Mondubim'\n",
    "\n",
    "todos_os_bairros = list(df_ML['Bairro'].unique())\n",
    "\n",
    "# Remove o bairro de referência da lista\n",
    "if bairro_referencia in top_bairros:\n",
    "    todos_os_bairros.remove(bairro_referencia)\n",
    "\n",
    "# Cria a nova ordem, colocando o seu bairro de referência EM PRIMEIRO LUGAR\n",
    "ordem_personalizada = [bairro_referencia] + todos_os_bairros\n",
    "\n",
    "\n",
    "# Define qual é a ordem correta da sua categoria\n",
    "df_ML['Bairro'] = pd.Categorical(df_ML['Bairro'], categories=ordem_personalizada, ordered=True)"
   ]
  },
  {
   "cell_type": "code",
   "execution_count": null,
   "id": "fbfcf1fb",
   "metadata": {},
   "outputs": [],
   "source": [
    "df_ML"
   ]
  },
  {
   "cell_type": "code",
   "execution_count": null,
   "id": "8aa919f8",
   "metadata": {},
   "outputs": [],
   "source": [
    "#Criação das variáveis dummies para bairro\n",
    "df_ML = pd.get_dummies(df_ML,drop_first=True,dtype=int)\n",
    "\n",
    "#Definição das variaveis\n",
    "y_rlm = df_ML[['Preco']]\n",
    "x_rlm = df_ML.drop(['Preco','qtd_quartos','qtd_banheiro'],axis=1)"
   ]
  },
  {
   "cell_type": "code",
   "execution_count": null,
   "id": "8d13d3b6",
   "metadata": {},
   "outputs": [],
   "source": [
    "#Salvando em arquivo CSV\n",
    "nome_do_arquivo = 'imoveis_zap_fortaleza_ML.csv'\n",
    "df_ML.to_csv(nome_do_arquivo, index=False, sep=';', encoding='utf-8-sig')"
   ]
  },
  {
   "cell_type": "code",
   "execution_count": null,
   "id": "e39b06f8",
   "metadata": {},
   "outputs": [],
   "source": [
    "#Divisão em treino e teste da base\n",
    "x_train, x_test, y_train, y_test = train_test_split(x_rlm, y_rlm, test_size=0.3, random_state=42)"
   ]
  },
  {
   "cell_type": "markdown",
   "id": "bb54e273",
   "metadata": {},
   "source": [
    "## *3.1. Regressão Linear Múltipla*\n",
    "* Visando Compreender o peso de cada variável na composição do custo do imóvel, inicialmente trabalharemos com a Reg.Linear Múltipla\n",
    "* Statsmodels para interpretação dos coeficientes e comportamento da regressão\n",
    "* LinearRegression para avaliar performance e geneleralização da regressão"
   ]
  },
  {
   "cell_type": "code",
   "execution_count": null,
   "id": "5b3a25c8",
   "metadata": {},
   "outputs": [],
   "source": [
    "import statsmodels.api as sm\n",
    "from sklearn.linear_model import LinearRegression"
   ]
  },
  {
   "cell_type": "code",
   "execution_count": null,
   "id": "4a1f6cb4",
   "metadata": {},
   "outputs": [],
   "source": [
    "#Treinando Modelo (statsmodels)\n",
    "modelo_rlm = sm.OLS(y_rlm,sm.add_constant(x_rlm)).fit()"
   ]
  },
  {
   "cell_type": "code",
   "execution_count": null,
   "id": "5636e316",
   "metadata": {},
   "outputs": [],
   "source": [
    "#Alimentando o modelo LinearRegression\n",
    "model_lr = LinearRegression()\n",
    "model_lr.fit(x_train, y_train)\n",
    "\n",
    "# Fazendo previsões no conjunto de treino e teste\n",
    "y_pred_lr_treino = model_lr.predict(x_train)\n",
    "y_pred_lr_teste = model_lr.predict(x_test)"
   ]
  },
  {
   "cell_type": "code",
   "execution_count": null,
   "id": "127b1628",
   "metadata": {},
   "outputs": [],
   "source": [
    "# Calculando as métricas de performance\n",
    "print(\"\\n--- Regressão Linear Múltipla ---\")\n",
    "\n",
    "#R²\n",
    "r2_lr_treino = r2_score(y_train, y_pred_lr_treino)\n",
    "print(f\"R² (R-squared) treino: {r2_lr_treino:.4f}\")\n",
    "r2_lr_teste = r2_score(y_test, y_pred_lr_teste)\n",
    "print(f\"R² (R-squared) teste: {r2_lr_teste:.4f}\")\n",
    "\n",
    "#mae\n",
    "mae_lr_treino = mean_absolute_error(y_train, y_pred_lr_treino)\n",
    "print(f\"Erro Médio Absoluto (MAE) treino: R$ {mae_lr_treino:,.2f}\")\n",
    "mae_lr_teste = mean_absolute_error(y_test, y_pred_lr_teste)\n",
    "print(f\"Erro Médio Absoluto (MAE) teste: R$ {mae_lr_teste:,.2f}\")\n",
    "\n",
    "\n",
    "#rmse\n",
    "rmse_lr_treino = root_mean_squared_error(y_train, y_pred_lr_treino)\n",
    "print(f\"Erro Médio Absoluto (MAE) treino: R$ {rmse_lr_treino:,.2f}\")\n",
    "rmse_lr_teste = root_mean_squared_error(y_test, y_pred_lr_teste)\n",
    "print(f\"Erro Médio Absoluto (MAE) teste: R$ {rmse_lr_teste:,.2f}\")"
   ]
  },
  {
   "cell_type": "markdown",
   "id": "1ab0393d",
   "metadata": {},
   "source": [
    "### *3.1.1 Avaliando Modelo*"
   ]
  },
  {
   "cell_type": "code",
   "execution_count": null,
   "id": "58db81b9",
   "metadata": {},
   "outputs": [],
   "source": [
    "#Visão geral\n",
    "print(modelo_rlm.summary())"
   ]
  },
  {
   "cell_type": "markdown",
   "id": "1c8c38e6",
   "metadata": {},
   "source": [
    "*Conclusões da Regressão Linear Multipla*\n",
    "O modelo é robusto e explica 74.6% da variação nos preços dos imóveis. Isso é um resultado muito forte para dados do mercado imobiliário, indicando que as variáveis escolhidas (tamanho, vagas e bairro) formam uma excelente base para prever o preço. Apenas 25.4% da variação de preço se deve a outros fatores não incluídos no modelo (como idade do imóvel, acabamento, andar, etc.).\n",
    "\n",
    "* *m² e qtd_vagas:* O tamanho do imóvel e o número de vagas de garagem são os fatores individuais mais importantes e estatisticamente significativos para determinar o preço. \n",
    "    * Para cada metro quadrado a mais, o preço tende a aumentar, em média, R$ 7.570. \n",
    "    * Cada vaga de garagem extra está associada a um aumento médio de R$ 287.500 no valor do imóvel.\n",
    "\n",
    "* *Entendendo os bairros, referência: Mondubin:*\n",
    "    * \"Bairro Premium\": Bairros como Meireles e Mucuripe possuem um \"prêmio\" de valorização claro.\n",
    "        * Meireles, por exemplo, tende a ser em média R$ 417.900 mais caro do que um imóvel no Mondubim.\n",
    "    * \"Bairros Caros\": a percepção de que bairros como Cocó e Aldeota são \"caros\" pode ser mais explicada pelo fato de eles terem, em média, imóveis maiores e com mais vagas, do que por um \"prêmio\" inerente à localização em si.\n",
    "        * Se enquadram no caso de alto coeficiente de regressão, porém não possuem significancia estatística, o que indica que a diferença nos valores podem ser pelo acaso dentro da amostra coletada.\n",
    "* *Base de Preço e o Ponto de Partida:* \n",
    "    * A constante negativa não significa que um imóvel pode ter preço negativo. Ela representa o ponto de partida matemático da equação. Um preço teórico para um apartamento no Mondubin (referência) com 0 m².\n",
    "        * O preço de qualquer imóvel real se torna positivo assim que o forte efeito do tamanho e das vagas é adicionado, mostrando que estas características são essenciais para compor o valor."
   ]
  },
  {
   "cell_type": "markdown",
   "id": "0498e2ee",
   "metadata": {},
   "source": [
    "## *3.2 Random Forest Regressor*\n",
    "* O Random Forest Regressor é um tipo de ensemble baseado em um método chamado Bagging."
   ]
  },
  {
   "cell_type": "code",
   "execution_count": null,
   "id": "73073231",
   "metadata": {},
   "outputs": [],
   "source": [
    "from sklearn.ensemble import RandomForestRegressor"
   ]
  },
  {
   "cell_type": "code",
   "execution_count": null,
   "id": "f9454e30",
   "metadata": {},
   "outputs": [],
   "source": [
    "#Criando modelo\n",
    "rfr = RandomForestRegressor(random_state=42,n_jobs=-1)"
   ]
  },
  {
   "cell_type": "code",
   "execution_count": null,
   "id": "4ef6ddba",
   "metadata": {},
   "outputs": [],
   "source": [
    "#Estimando parametros através do Grid\n",
    "param_grid = {\n",
    "    'n_estimators': [100,200,300],         # Número de árvores na floresta\n",
    "    'max_depth': [10,20,None],           # Profundidade máxima de cada árvore\n",
    "    'min_samples_split': [2, 5, 10],       # Mínimo de amostras para dividir um nó\n",
    "    'min_samples_leaf': [1,2,4]         # Mínimo de amostras em um nó folha\n",
    "}\n",
    "\n",
    "#validação cruzada com 3 \"dobras\" para cada combinação\n",
    "grid_search = GridSearchCV(\n",
    "    estimator=rfr, \n",
    "    param_grid=param_grid, \n",
    "    cv=3, \n",
    "    scoring='neg_mean_absolute_error',\n",
    "    verbose=2, # Mostra o progresso do treinamento\n",
    "    n_jobs=-1\n",
    ")\n",
    "grid_search.fit(x_train, y_train)"
   ]
  },
  {
   "cell_type": "code",
   "execution_count": null,
   "id": "cfa5bf70",
   "metadata": {},
   "outputs": [],
   "source": [
    "#Avaliar melhor resultado\n",
    "print(grid_search.best_params_)"
   ]
  },
  {
   "cell_type": "code",
   "execution_count": null,
   "id": "8efbe1be",
   "metadata": {},
   "outputs": [],
   "source": [
    "#Aplicando melhor resultado encontrado\n",
    "model_rfr = grid_search.best_estimator_"
   ]
  },
  {
   "cell_type": "code",
   "execution_count": null,
   "id": "0b62e885",
   "metadata": {},
   "outputs": [],
   "source": [
    "#Verificando o Desempenho\n",
    "#Base de treino\n",
    "y_pred_rfr_treino = model_rfr.predict(x_train)\n",
    "\n",
    "#Base de teste\n",
    "y_pred_rfr_teste = model_rfr.predict(x_test)"
   ]
  },
  {
   "cell_type": "code",
   "execution_count": null,
   "id": "ed6b366d",
   "metadata": {},
   "outputs": [],
   "source": [
    "# Calculando as métricas de performance\n",
    "print(\"\\n--- Random Forest Regressor ---\")\n",
    "\n",
    "#r²\n",
    "r2_rfr_treino = r2_score(y_train,y_pred_rfr_treino)\n",
    "print(f\"R² (R-squared) treino: {r2_rfr_treino:.4f}\")\n",
    "r2_rfr_teste = r2_score(y_test, y_pred_rfr_teste)\n",
    "print(f\"R² (R-squared) teste: {r2_rfr_teste:.4f}\")\n",
    "\n",
    "#mae\n",
    "mae_rfr_treino = mean_absolute_error(y_train,y_pred_rfr_treino)\n",
    "print(f\"Erro Médio Absoluto (MAE) treino: R$ {mae_rfr_treino:,.2f}\")\n",
    "mae_rfr_teste = mean_absolute_error(y_test, y_pred_rfr_teste)\n",
    "print(f\"Erro Médio Absoluto (MAE) teste: R$ {mae_rfr_teste:,.2f}\")\n",
    "\n",
    "#rmse\n",
    "rmse_rfr_treino = root_mean_squared_error(y_train,y_pred_rfr_treino)\n",
    "print(f\"Erro Médio Absoluto (RMSE) treino: R$ {rmse_rfr_treino:,.2f}\")\n",
    "rmse_rfr_teste = root_mean_squared_error(y_test, y_pred_rfr_teste)\n",
    "print(f\"Erro Médio Absoluto (RMSE) teste: R$ {rmse_rfr_teste:,.2f}\")"
   ]
  },
  {
   "cell_type": "markdown",
   "id": "7c95660c",
   "metadata": {},
   "source": [
    "## *3.3. XGBoost (eXtreme Gradient Boosting)*\n",
    "* O Gradient Boosting é um tipo de ensemble baseado em um método chamado Boosting."
   ]
  },
  {
   "cell_type": "code",
   "execution_count": null,
   "id": "904eca1f",
   "metadata": {},
   "outputs": [],
   "source": [
    "from xgboost import XGBRegressor"
   ]
  },
  {
   "cell_type": "code",
   "execution_count": null,
   "id": "1b59f220",
   "metadata": {},
   "outputs": [],
   "source": [
    "#Criando Modelo\n",
    "xgb = XGBRegressor(random_state=42,\n",
    "                    n_jobs=-1)"
   ]
  },
  {
   "cell_type": "code",
   "execution_count": null,
   "id": "6768d85f",
   "metadata": {},
   "outputs": [],
   "source": [
    "#Estimando parametros através do Grid\n",
    "param_grid_xgb = {\n",
    "    'n_estimators': [200, 400],             # Testa com um número maior de árvores\n",
    "    'learning_rate': [0.05, 0.1],           # Testa uma taxa de aprendizado mais lenta e uma padrão\n",
    "    'max_depth': [5, 7],                    # Limita a profundidade para evitar overfitting\n",
    "    'subsample': [0.7, 1.0]                 # Testa usando todas as amostras ou apenas 70%\n",
    "}\n",
    "\n",
    "#validação cruzada com 3 \"dobras\" para cada combinação\n",
    "grid_search_xgb = GridSearchCV(\n",
    "    estimator=xgb,\n",
    "    param_grid=param_grid_xgb,\n",
    "    cv=3, \n",
    "    scoring='neg_mean_absolute_error',\n",
    "    verbose=2,\n",
    "    n_jobs=-1\n",
    ")\n",
    "grid_search_xgb.fit(x_train, y_train)"
   ]
  },
  {
   "cell_type": "code",
   "execution_count": null,
   "id": "35c396b9",
   "metadata": {},
   "outputs": [],
   "source": [
    "#Consultando melhor resultado\n",
    "print(grid_search_xgb.best_params_)"
   ]
  },
  {
   "cell_type": "code",
   "execution_count": null,
   "id": "2cb1d641",
   "metadata": {},
   "outputs": [],
   "source": [
    "#Assumindo melhor modelo\n",
    "model_xgb = grid_search_xgb.best_estimator_"
   ]
  },
  {
   "cell_type": "code",
   "execution_count": null,
   "id": "c4e17a52",
   "metadata": {},
   "outputs": [],
   "source": [
    "#Verificando o Desempenho\n",
    "#Base de treino\n",
    "y_pred_xgb_treino = model_xgb.predict(x_train)\n",
    "#Base de teste\n",
    "y_pred_xgb_teste = model_xgb.predict(x_test)"
   ]
  },
  {
   "cell_type": "code",
   "execution_count": null,
   "id": "3b8ea27b",
   "metadata": {},
   "outputs": [],
   "source": [
    "# Calculando as métricas de performance\n",
    "print(\"\\n--- XGBoost Regressor ---\")\n",
    "\n",
    "#r²\n",
    "r2_xgb_treino = r2_score(y_train, y_pred_xgb_treino)\n",
    "print(f\"R² (R-squared) treino: {r2_xgb_treino:.4f}\")\n",
    "r2_xgb_teste = r2_score(y_test, y_pred_xgb_teste)\n",
    "print(f\"R² (R-squared) teste: {r2_xgb_teste:.4f}\")\n",
    "\n",
    "#mae\n",
    "mae_xgb_treino = mean_absolute_error(y_train, y_pred_xgb_treino)\n",
    "print(f\"Erro Médio Absoluto (MAE) treino: R$ {mae_rfr_treino:,.2f}\")\n",
    "mae_xgb_teste = mean_absolute_error(y_test, y_pred_xgb_teste)\n",
    "print(f\"Erro Médio Absoluto (MAE) teste: R$ {mae_xgb_teste:,.2f}\")\n",
    "\n",
    "#rmse\n",
    "rmse_xgb_treino = root_mean_squared_error(y_train, y_pred_xgb_treino)\n",
    "print(f\"Erro Médio Absoluto (RMSE) treino: R$ {rmse_xgb_treino:,.2f}\")\n",
    "rmse_xgb_teste = root_mean_squared_error(y_test, y_pred_xgb_teste)\n",
    "print(f\"Erro Médio Absoluto (RMSE) teste: R$ {rmse_xgb_teste:,.2f}\")"
   ]
  },
  {
   "cell_type": "markdown",
   "id": "f213f5bd",
   "metadata": {},
   "source": [
    "## *3.4. Rede Neural Artificial*"
   ]
  },
  {
   "cell_type": "code",
   "execution_count": null,
   "id": "07dfc7c0",
   "metadata": {},
   "outputs": [],
   "source": [
    "from sklearn.neural_network import MLPRegressor"
   ]
  },
  {
   "cell_type": "markdown",
   "id": "70da7203",
   "metadata": {},
   "source": [
    "Etapa adicional para escalonamento dos dados"
   ]
  },
  {
   "cell_type": "code",
   "execution_count": null,
   "id": "3643c364",
   "metadata": {},
   "outputs": [],
   "source": [
    "#Escalonamento dos dados\n",
    "from sklearn.preprocessing import StandardScaler\n",
    "scaler = StandardScaler()\n",
    "x_train_scaled = scaler.fit_transform(x_train)\n",
    "x_test_scaled = scaler.transform(x_test)"
   ]
  },
  {
   "cell_type": "code",
   "execution_count": null,
   "id": "0a613b24",
   "metadata": {},
   "outputs": [],
   "source": [
    "#Definição inicial do modelo\n",
    "mlp = MLPRegressor(max_iter=1000, early_stopping=True, random_state=42)"
   ]
  },
  {
   "cell_type": "code",
   "execution_count": null,
   "id": "3ec911ac",
   "metadata": {},
   "outputs": [],
   "source": [
    "#Etapa de tunnning \n",
    "param_grid_mlp = {\n",
    "    'hidden_layer_sizes': [(50, 25), (100, 50), (100,)],\n",
    "    'activation': ['relu', 'tanh'],\n",
    "    'alpha': [0.0001, 0.001, 0.01],\n",
    "    'learning_rate_init': [0.001, 0.01]\n",
    "}\n",
    "\n",
    "grid_search_mlp = GridSearchCV(\n",
    "    estimator=mlp,\n",
    "    param_grid=param_grid_mlp,\n",
    "    cv=3,\n",
    "    scoring='neg_mean_absolute_error',\n",
    "    verbose=2,\n",
    "    n_jobs=-1\n",
    ")\n",
    "\n",
    "grid_search_mlp.fit(x_train_scaled, y_train)"
   ]
  },
  {
   "cell_type": "code",
   "execution_count": null,
   "id": "5694d46d",
   "metadata": {},
   "outputs": [],
   "source": [
    "#Consultando melhor configuração\n",
    "print(grid_search_mlp.best_params_)"
   ]
  },
  {
   "cell_type": "code",
   "execution_count": null,
   "id": "15283632",
   "metadata": {},
   "outputs": [],
   "source": [
    "#Assumindo melhor modelo\n",
    "model_rna = grid_search_mlp.best_estimator_"
   ]
  },
  {
   "cell_type": "code",
   "execution_count": null,
   "id": "7958ce40",
   "metadata": {},
   "outputs": [],
   "source": [
    "#Verificando o Desempenho\n",
    "#Base de treino\n",
    "y_pred_rna_treino = model_rna.predict(x_train_scaled)\n",
    "#Base de teste\n",
    "y_pred_rna_teste = model_rna.predict(x_test_scaled)"
   ]
  },
  {
   "cell_type": "code",
   "execution_count": null,
   "id": "d1f931df",
   "metadata": {},
   "outputs": [],
   "source": [
    "# Calculando as métricas de performance\n",
    "print(\"\\n--- RNA Keras Regressor ---\")\n",
    "\n",
    "#r²\n",
    "r2_rna_treino = r2_score(y_train, y_pred_rna_treino)\n",
    "print(f\"R² (R-squared) treino: {r2_rna_treino:.4f}\")\n",
    "r2_rna_teste = r2_score(y_test, y_pred_rna_teste)\n",
    "print(f\"R² (R-squared) teste: {r2_rna_teste:.4f}\")\n",
    "\n",
    "#mae\n",
    "mae_rna_treino = mean_absolute_error(y_train, y_pred_rna_treino)\n",
    "print(f\"Erro Médio Absoluto (MAE) treino: R$ {mae_rna_treino:,.2f}\")\n",
    "mae_rna_teste = mean_absolute_error(y_test, y_pred_rna_teste)\n",
    "print(f\"Erro Médio Absoluto (MAE) teste: R$ {mae_rna_teste:,.2f}\")\n",
    "\n",
    "#rmse\n",
    "rmse_rna_treino = root_mean_squared_error(y_train, y_pred_rna_treino)\n",
    "print(f\"Erro Médio Absoluto (RMSE) treino: R$ {rmse_rna_treino:,.2f}\")\n",
    "rmse_rna_teste = root_mean_squared_error(y_test, y_pred_rna_teste)\n",
    "print(f\"Erro Médio Absoluto (RMSE) teste: R$ {rmse_rna_teste:,.2f}\")"
   ]
  },
  {
   "cell_type": "markdown",
   "id": "3e4e7fb7",
   "metadata": {},
   "source": [
    "# *4. Agregando resultados para compração*"
   ]
  },
  {
   "cell_type": "code",
   "execution_count": null,
   "id": "b6366011",
   "metadata": {},
   "outputs": [],
   "source": [
    "dados_comparativos = {\n",
    "    'Regressão Linear Múltipla': {\n",
    "        'R² (Treino)': r2_lr_treino,\n",
    "        'R² (Teste)': r2_lr_teste, \n",
    "        'MAE (Treino)': mae_lr_treino,\n",
    "        'MAE (Teste)': mae_lr_teste,\n",
    "        'RMSE (Treino)': rmse_lr_treino,\n",
    "        'RMSE (Teste)':rmse_lr_teste\n",
    "    },\n",
    "    'Random Forest (Otimizado)': {\n",
    "        'R² (Treino)': r2_rfr_treino,\n",
    "        'R² (Teste)': r2_rfr_teste,\n",
    "        'MAE (Treino)': mae_rfr_treino,\n",
    "        'MAE (Teste)': mae_rfr_teste,\n",
    "        'RMSE (Treino)': rmse_rfr_treino,\n",
    "        'RMSE (Teste)':rmse_rfr_teste\n",
    "    },\n",
    "    'XGBoost (Otimizado)': {\n",
    "        'R² (Treino)': r2_xgb_treino,\n",
    "        'R² (Teste)': r2_xgb_teste,\n",
    "        'MAE (Treino)': mae_xgb_treino,\n",
    "        'MAE (Teste)': mae_xgb_teste,\n",
    "        'RMSE (Treino)': rmse_xgb_treino,\n",
    "        'RMSE (Teste)':rmse_xgb_teste\n",
    "    },\n",
    "    'Rede Neural (Otimizado)': {\n",
    "        'R² (Treino)': r2_rna_treino, # Keras não tem .score() direto\n",
    "        'R² (Teste)': r2_rna_teste,\n",
    "        'MAE (Treino)': mae_rna_treino,\n",
    "        'MAE (Teste)': mae_rna_teste,\n",
    "        'RMSE (Treino)': rmse_rna_treino,\n",
    "        'RMSE (Teste)':rmse_rna_teste\n",
    "    }\n",
    "}\n",
    "\n",
    "df_resultados = pd.DataFrame(dados_comparativos).T"
   ]
  },
  {
   "cell_type": "code",
   "execution_count": null,
   "id": "3af47a44",
   "metadata": {},
   "outputs": [],
   "source": [
    "round(df_resultados,2)"
   ]
  },
  {
   "cell_type": "markdown",
   "id": "4b5092f4",
   "metadata": {},
   "source": [
    "Após comparar os quatro algoritmos de regressão, o *Random Forest Regressor* foi escolhido como o melhor modelo para a previsão de preços. \n",
    "* Maior poder preditivo, explicando 73% da variação dos preços nos dados de teste (R²). \n",
    "* Apresentou o menor Erro Médio Absoluto (MAE) e o menor Erro Quadrático Médio (RMSE), tornando-o o mais preciso e confiável. \n",
    "O XGBoost foi um competidor muito próximo, confirmando a superioridade dos modelos de ensemble de árvores para este tipo de problema. "
   ]
  },
  {
   "cell_type": "code",
   "execution_count": null,
   "id": "7348502a",
   "metadata": {},
   "outputs": [],
   "source": [
    "# Salvando modelo para usar na aplicação\n",
    "import joblib\n",
    "nome_arquivo_modelo = 'modelo_random_forest.joblib'\n",
    "\n",
    "# Salva o objeto do modelo no arquivo\n",
    "joblib.dump(model_rfr, nome_arquivo_modelo)"
   ]
  },
  {
   "cell_type": "code",
   "execution_count": null,
   "id": "ebf64943",
   "metadata": {},
   "outputs": [],
   "source": [
    "#Salvando colunas para a aplicação\n",
    "model_columns = list(x_train.columns)\n",
    "joblib.dump(model_columns, 'model_columns.joblib')"
   ]
  }
 ],
 "metadata": {
  "kernelspec": {
   "display_name": "projeto-igor-py3.10",
   "language": "python",
   "name": "python3"
  },
  "language_info": {
   "codemirror_mode": {
    "name": "ipython",
    "version": 3
   },
   "file_extension": ".py",
   "mimetype": "text/x-python",
   "name": "python",
   "nbconvert_exporter": "python",
   "pygments_lexer": "ipython3",
   "version": "3.10.11"
  }
 },
 "nbformat": 4,
 "nbformat_minor": 5
}
