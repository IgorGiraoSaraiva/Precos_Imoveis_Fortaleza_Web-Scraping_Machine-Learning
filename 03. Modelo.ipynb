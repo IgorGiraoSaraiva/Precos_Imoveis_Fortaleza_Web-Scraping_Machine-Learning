{
 "cells": [
  {
   "cell_type": "code",
   "execution_count": null,
   "id": "4511d4b9",
   "metadata": {},
   "outputs": [],
   "source": [
    "import shap\n",
    "import joblib\n",
    "import pandas as pd\n",
    "import matplotlib.pyplot as plt\n",
    "from sklearn.model_selection import train_test_split"
   ]
  },
  {
   "cell_type": "code",
   "execution_count": null,
   "id": "c760cc11",
   "metadata": {},
   "outputs": [],
   "source": [
    "#Carregando base de dados\n",
    "df_ML = pd.read_csv('imoveis_zap_fortaleza_ML.csv',sep=\";\")\n",
    "df_ML.head()"
   ]
  },
  {
   "cell_type": "code",
   "execution_count": null,
   "id": "9e621c20",
   "metadata": {},
   "outputs": [],
   "source": [
    "#Definição das variaveis\n",
    "y_rlm = df_ML['Preco']\n",
    "x_rlm = df_ML.drop(['Preco','qtd_quartos','qtd_banheiro'],axis=1)\n",
    "\n",
    "#Dividindo base em treino e teste\n",
    "#Divisão em treino e teste da base\n",
    "x_train, x_test, y_train, y_test = train_test_split(x_rlm, y_rlm, test_size=0.3, random_state=42)"
   ]
  },
  {
   "cell_type": "code",
   "execution_count": null,
   "id": "ea29f61d",
   "metadata": {},
   "outputs": [],
   "source": [
    "#Chamando melhor modelo\n",
    "# Define o nome do arquivo do modelo que salvamos\n",
    "nome_arquivo_modelo = 'modelo_random_forest.joblib'\n",
    "# Carrega o modelo treinado do arquivo para a memória\n",
    "modelo_otimo = joblib.load(nome_arquivo_modelo)"
   ]
  },
  {
   "cell_type": "code",
   "execution_count": null,
   "id": "e3757585",
   "metadata": {},
   "outputs": [],
   "source": [
    "# Para modelos baseados em árvores, o TreeExplainer é o mais rápido e eficiente\n",
    "explainer = shap.TreeExplainer(modelo_otimo)\n",
    "\n",
    "# Calculamos os valores SHAP para o conjunto de teste para entender como o modelo\n",
    "# se comporta em dados novos.\n",
    "shap_values = explainer.shap_values(x_test)"
   ]
  },
  {
   "cell_type": "code",
   "execution_count": null,
   "id": "caee0c44",
   "metadata": {},
   "outputs": [],
   "source": [
    "# O Summary Plot é a forma mais poderosa de ver a importância das features\n",
    "# Ele combina a magnitude do impacto com a direção (positiva ou negativa)\n",
    "shap.summary_plot(shap_values, x_test, plot_type=\"bar\", show=False)\n",
    "plt.title('Importância Global das Features (SHAP)', fontsize=16)\n",
    "plt.show()\n",
    "\n",
    "shap.summary_plot(shap_values, x_test, show=False)\n",
    "plt.title('Dispersão do Impacto das Features (SHAP)', fontsize=16)\n",
    "plt.show()"
   ]
  },
  {
   "cell_type": "code",
   "execution_count": null,
   "id": "098d89fc",
   "metadata": {},
   "outputs": [],
   "source": [
    "# Vamos analisar a feature mais importante: 'tamanho (m²)'\n",
    "# 'interaction_index=\"auto\"' permite que o SHAP encontre automaticamente\n",
    "# outra feature que tenha a maior interação com a que estamos analisando.\n",
    "shap.dependence_plot(\n",
    "    'tamanho (m²)', \n",
    "    shap_values, \n",
    "    x_test, \n",
    "    interaction_index=\"auto\",\n",
    "    show=False\n",
    ")\n",
    "plt.title('Dependência: Impacto do Tamanho no Preço', fontsize=16)\n",
    "plt.ylabel('Impacto no Preço (Valor SHAP)')\n",
    "plt.show()"
   ]
  }
 ],
 "metadata": {
  "kernelspec": {
   "display_name": "projeto-igor-py3.10",
   "language": "python",
   "name": "python3"
  },
  "language_info": {
   "codemirror_mode": {
    "name": "ipython",
    "version": 3
   },
   "file_extension": ".py",
   "mimetype": "text/x-python",
   "name": "python",
   "nbconvert_exporter": "python",
   "pygments_lexer": "ipython3",
   "version": "3.10.11"
  }
 },
 "nbformat": 4,
 "nbformat_minor": 5
}
