{
 "cells": [
  {
   "cell_type": "markdown",
   "id": "931b4713",
   "metadata": {},
   "source": [
    "# *Pipeline de limpeza dos dados*"
   ]
  },
  {
   "cell_type": "code",
   "execution_count": null,
   "id": "9096e89e",
   "metadata": {},
   "outputs": [],
   "source": [
    "#Resolvendo números em faixas --> acessar valor e substituir pela média da faixa\n",
    "def calcular_media_faixa(valor):\n",
    "    if isinstance(valor, str) and '-' in valor:\n",
    "        try:\n",
    "            # Divide a string em duas partes usando o '-' como separador\n",
    "            parte1, parte2 = valor.split('-')\n",
    "            # Converte as duas partes para float e calcula a média\n",
    "            media = (float(parte1) + float(parte2)) / 2\n",
    "            return media\n",
    "        except ValueError:\n",
    "            # Se algo der errado na conversão, retorna nulo\n",
    "            return np.nan\n",
    "    # Se não for uma faixa, retorna o valor como está\n",
    "    return valor"
   ]
  },
  {
   "cell_type": "code",
   "execution_count": null,
   "id": "913ded38",
   "metadata": {},
   "outputs": [],
   "source": [
    "import pandas as pd\n",
    "import numpy as np\n",
    "import math"
   ]
  },
  {
   "cell_type": "code",
   "execution_count": null,
   "id": "f337b224",
   "metadata": {},
   "outputs": [],
   "source": [
    "df = pd.read_csv('imoveis_zap_fortaleza.csv',sep=\";\")\n",
    "df.head()"
   ]
  },
  {
   "cell_type": "code",
   "execution_count": null,
   "id": "49bc04b6",
   "metadata": {},
   "outputs": [],
   "source": [
    "df_limpo = df.copy()"
   ]
  },
  {
   "cell_type": "code",
   "execution_count": null,
   "id": "f22e3364",
   "metadata": {},
   "outputs": [],
   "source": [
    "df_limpo.info()"
   ]
  },
  {
   "cell_type": "markdown",
   "id": "a96903bd",
   "metadata": {},
   "source": [
    "## *Coluna Preço*"
   ]
  },
  {
   "cell_type": "code",
   "execution_count": null,
   "id": "af78fc19",
   "metadata": {},
   "outputs": [],
   "source": [
    "df_limpo['Preco'] = df_limpo['Preco'].str.replace(r'[^\\d.]', '', regex=True) # r'[^\\d.]'Remove tudo que NÃO é dígito (\\d) ou ponto (.).\n",
    "df_limpo['Preco'] = df_limpo['Preco'].str.replace('.','')\n",
    "#Converte a coluna para um tipo numérico /  O 'errors='coerce'':se um valor não puder ser convertido como uma string vazia, ele será transformado em NaN (Not a Number)\n",
    "df_limpo['Preco'] = pd.to_numeric(df_limpo['Preco'],errors='coerce')\n"
   ]
  },
  {
   "cell_type": "markdown",
   "id": "d32ad5f2",
   "metadata": {},
   "source": [
    "## *Coluna Tamanho*"
   ]
  },
  {
   "cell_type": "code",
   "execution_count": null,
   "id": "a307f0c3",
   "metadata": {},
   "outputs": [],
   "source": [
    "df_limpo['Tamanho'] = df_limpo['Tamanho'].str.replace('Tamanho do imóvel','').str.replace('m²','')"
   ]
  },
  {
   "cell_type": "code",
   "execution_count": null,
   "id": "4274bd4f",
   "metadata": {},
   "outputs": [],
   "source": [
    "#Aplicação da função à coluna 'Tamanho' original\n",
    "df_limpo['Tamanho_Limpo'] = df_limpo['Tamanho'].apply(calcular_media_faixa)\n",
    "#Coluna seja numérica\n",
    "df_limpo['Tamanho_Limpo'] = pd.to_numeric(df_limpo['Tamanho_Limpo'], errors='coerce')"
   ]
  },
  {
   "cell_type": "markdown",
   "id": "e8107dba",
   "metadata": {},
   "source": [
    "## *Coluna Quartos*"
   ]
  },
  {
   "cell_type": "code",
   "execution_count": null,
   "id": "6834a4d1",
   "metadata": {},
   "outputs": [],
   "source": [
    "df_limpo['Quartos'] = df_limpo['Quartos'].str.replace('Quantidade de quartos','')"
   ]
  },
  {
   "cell_type": "code",
   "execution_count": null,
   "id": "3334cb4f",
   "metadata": {},
   "outputs": [],
   "source": [
    "#Aplicação da função à coluna 'Quartos' original --> porém será arrendado para o maior valor\n",
    "df_limpo['Quartos_limpo'] = df_limpo['Quartos'].apply(calcular_media_faixa)\n",
    "#Coluna seja numérica\n",
    "df_limpo['Quartos_limpo'] = pd.to_numeric(df_limpo['Quartos_limpo'], errors='coerce')\n",
    "df_limpo['Quartos_limpo'] = df_limpo['Quartos_limpo'].apply(lambda x: math.ceil(x) if pd.notna(x) else x) #Aplicando arredondamento"
   ]
  },
  {
   "cell_type": "markdown",
   "id": "3df90cf9",
   "metadata": {},
   "source": [
    "## *Coluna Banheiros*"
   ]
  },
  {
   "cell_type": "code",
   "execution_count": null,
   "id": "41e1c14f",
   "metadata": {},
   "outputs": [],
   "source": [
    "df_limpo['Banheiros'] = df_limpo['Banheiros'].str.replace('Quantidade de banheiros','')"
   ]
  },
  {
   "cell_type": "code",
   "execution_count": null,
   "id": "029a32de",
   "metadata": {},
   "outputs": [],
   "source": [
    "#Aplicação da função à coluna 'Quartos' original --> porém será arrendado para o maior valor\n",
    "df_limpo['Banheiros_limpo'] = df_limpo['Banheiros'].apply(calcular_media_faixa)\n",
    "#Coluna seja numérica\n",
    "df_limpo['Banheiros_limpo'] = pd.to_numeric(df_limpo['Banheiros_limpo'], errors='coerce')\n",
    "df_limpo['Banheiros_limpo'] = df_limpo['Banheiros_limpo'].apply(lambda x: math.ceil(x) if pd.notna(x) else x) #Aplicando arredondamento"
   ]
  },
  {
   "cell_type": "markdown",
   "id": "de23ce2e",
   "metadata": {},
   "source": [
    "## *Coluna Vagas*"
   ]
  },
  {
   "cell_type": "code",
   "execution_count": null,
   "id": "77b7cbce",
   "metadata": {},
   "outputs": [],
   "source": [
    "df_limpo['Vagas'] = df_limpo['Vagas'].str.replace('Quantidade de vagas de garagem','')"
   ]
  },
  {
   "cell_type": "code",
   "execution_count": null,
   "id": "f1b770a4",
   "metadata": {},
   "outputs": [],
   "source": [
    "#Aplicação da função à coluna 'Quartos' original --> porém será arrendado para o maior valor\n",
    "df_limpo['Vagas_limpo'] = df_limpo['Vagas'].apply(calcular_media_faixa)\n",
    "#Coluna seja numérica\n",
    "df_limpo['Vagas_limpo'] = pd.to_numeric(df_limpo['Vagas_limpo'], errors='coerce')\n",
    "df_limpo['Vagas_limpo'] = df_limpo['Vagas_limpo'].apply(lambda x: math.ceil(x) if pd.notna(x) else x) #Aplicando arredondamento"
   ]
  },
  {
   "cell_type": "markdown",
   "id": "518ba40b",
   "metadata": {},
   "source": [
    "## *Coluna Bairro*"
   ]
  },
  {
   "cell_type": "code",
   "execution_count": null,
   "id": "a6f4cd38",
   "metadata": {},
   "outputs": [],
   "source": [
    "df_limpo['Bairro'] = df_limpo['Bairro'].str.replace('Apartamento para comprar em','').str.replace(', Fortaleza','')"
   ]
  },
  {
   "cell_type": "markdown",
   "id": "dbd777b2",
   "metadata": {},
   "source": [
    "## *Dropando Colunas de apoio e renomeando*"
   ]
  },
  {
   "cell_type": "code",
   "execution_count": null,
   "id": "4fbadc72",
   "metadata": {},
   "outputs": [],
   "source": [
    "#Drop das colunas\n",
    "df_limpo = df_limpo.drop(['Tamanho','Quartos','Banheiros','Vagas'],axis=1)"
   ]
  },
  {
   "cell_type": "code",
   "execution_count": null,
   "id": "4a9e88ef",
   "metadata": {},
   "outputs": [],
   "source": [
    "#Renomeando colunas\n",
    "df_limpo.rename(columns={'Tamanho_Limpo': 'tamanho (m²)',\n",
    "                         'Quartos_limpo':'qtd_quartos',\n",
    "                         'Banheiros_limpo':'qtd_banheiro',\n",
    "                         'Vagas_limpo':'qtd_vagas'},\n",
    "                           inplace=True)"
   ]
  },
  {
   "cell_type": "markdown",
   "id": "022b7fea",
   "metadata": {},
   "source": [
    "# *Salvando base de dados final*"
   ]
  },
  {
   "cell_type": "code",
   "execution_count": null,
   "id": "965fcdec",
   "metadata": {},
   "outputs": [],
   "source": [
    "df_limpo.info()"
   ]
  },
  {
   "cell_type": "code",
   "execution_count": null,
   "id": "71f14a82",
   "metadata": {},
   "outputs": [],
   "source": [
    "#Salvando em arquivo CSV\n",
    "nome_do_arquivo = 'imoveis_zap_fortaleza_ready.csv'\n",
    "df_limpo.to_csv(nome_do_arquivo, index=False, sep=';', encoding='utf-8-sig')"
   ]
  }
 ],
 "metadata": {
  "kernelspec": {
   "display_name": "projeto-igor-py3.10",
   "language": "python",
   "name": "python3"
  },
  "language_info": {
   "codemirror_mode": {
    "name": "ipython",
    "version": 3
   },
   "file_extension": ".py",
   "mimetype": "text/x-python",
   "name": "python",
   "nbconvert_exporter": "python",
   "pygments_lexer": "ipython3",
   "version": "3.10.11"
  }
 },
 "nbformat": 4,
 "nbformat_minor": 5
}
