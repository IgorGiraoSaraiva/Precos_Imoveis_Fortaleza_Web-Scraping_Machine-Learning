{
 "cells": [
  {
   "cell_type": "markdown",
   "id": "931b4713",
   "metadata": {},
   "source": [
    "# *Pipeline de limpeza dos dados*"
   ]
  },
  {
   "cell_type": "code",
   "execution_count": 48,
   "id": "9096e89e",
   "metadata": {},
   "outputs": [],
   "source": [
    "#Resolvendo números em faixas --> acessar valor e substituir pela média da faixa\n",
    "def calcular_media_faixa(valor):\n",
    "    if isinstance(valor, str) and '-' in valor:\n",
    "        try:\n",
    "            # Divide a string em duas partes usando o '-' como separador\n",
    "            parte1, parte2 = valor.split('-')\n",
    "            # Converte as duas partes para float e calcula a média\n",
    "            media = (float(parte1) + float(parte2)) / 2\n",
    "            return media\n",
    "        except ValueError:\n",
    "            # Se algo der errado na conversão, retorna nulo\n",
    "            return np.nan\n",
    "    # Se não for uma faixa, retorna o valor como está\n",
    "    return valor"
   ]
  },
  {
   "cell_type": "code",
   "execution_count": 49,
   "id": "913ded38",
   "metadata": {},
   "outputs": [],
   "source": [
    "import pandas as pd\n",
    "import numpy as np\n",
    "import math"
   ]
  },
  {
   "cell_type": "code",
   "execution_count": 50,
   "id": "f337b224",
   "metadata": {},
   "outputs": [
    {
     "data": {
      "text/html": [
       "<div>\n",
       "<style scoped>\n",
       "    .dataframe tbody tr th:only-of-type {\n",
       "        vertical-align: middle;\n",
       "    }\n",
       "\n",
       "    .dataframe tbody tr th {\n",
       "        vertical-align: top;\n",
       "    }\n",
       "\n",
       "    .dataframe thead th {\n",
       "        text-align: right;\n",
       "    }\n",
       "</style>\n",
       "<table border=\"1\" class=\"dataframe\">\n",
       "  <thead>\n",
       "    <tr style=\"text-align: right;\">\n",
       "      <th></th>\n",
       "      <th>Preco</th>\n",
       "      <th>Tamanho</th>\n",
       "      <th>Quartos</th>\n",
       "      <th>Banheiros</th>\n",
       "      <th>Vagas</th>\n",
       "      <th>Bairro</th>\n",
       "    </tr>\n",
       "  </thead>\n",
       "  <tbody>\n",
       "    <tr>\n",
       "      <th>0</th>\n",
       "      <td>R$ 1.380.282</td>\n",
       "      <td>Tamanho do imóvel119 m²</td>\n",
       "      <td>Quantidade de quartos3</td>\n",
       "      <td>Quantidade de banheiros3</td>\n",
       "      <td>Quantidade de vagas de garagem2</td>\n",
       "      <td>Apartamento para comprar emEngenheiro Luciano ...</td>\n",
       "    </tr>\n",
       "    <tr>\n",
       "      <th>1</th>\n",
       "      <td>A partir deR$ 591.401</td>\n",
       "      <td>Tamanho do imóvel40-60 m²</td>\n",
       "      <td>Quantidade de quartos1-2</td>\n",
       "      <td>Quantidade de banheiros1-2</td>\n",
       "      <td>Quantidade de vagas de garagem1</td>\n",
       "      <td>Apartamento para comprar emAldeota, Fortaleza</td>\n",
       "    </tr>\n",
       "    <tr>\n",
       "      <th>2</th>\n",
       "      <td>R$ 1.300.000</td>\n",
       "      <td>Tamanho do imóvel129 m²</td>\n",
       "      <td>Quantidade de quartos3</td>\n",
       "      <td>Quantidade de banheiros4</td>\n",
       "      <td>Quantidade de vagas de garagem3</td>\n",
       "      <td>Apartamento para comprar emAldeota, Fortaleza</td>\n",
       "    </tr>\n",
       "    <tr>\n",
       "      <th>3</th>\n",
       "      <td>R$ 635.000</td>\n",
       "      <td>Tamanho do imóvel73 m²</td>\n",
       "      <td>Quantidade de quartos3</td>\n",
       "      <td>Quantidade de banheiros2</td>\n",
       "      <td>Quantidade de vagas de garagem2</td>\n",
       "      <td>Apartamento para comprar emPresidente Kennedy,...</td>\n",
       "    </tr>\n",
       "    <tr>\n",
       "      <th>4</th>\n",
       "      <td>R$ 499.000</td>\n",
       "      <td>Tamanho do imóvel91 m²</td>\n",
       "      <td>Quantidade de quartos3</td>\n",
       "      <td>Quantidade de banheiros3</td>\n",
       "      <td>Quantidade de vagas de garagem2</td>\n",
       "      <td>Apartamento para comprar emCocó, Fortaleza</td>\n",
       "    </tr>\n",
       "  </tbody>\n",
       "</table>\n",
       "</div>"
      ],
      "text/plain": [
       "                   Preco                    Tamanho                   Quartos  \\\n",
       "0           R$ 1.380.282    Tamanho do imóvel119 m²    Quantidade de quartos3   \n",
       "1  A partir deR$ 591.401  Tamanho do imóvel40-60 m²  Quantidade de quartos1-2   \n",
       "2           R$ 1.300.000    Tamanho do imóvel129 m²    Quantidade de quartos3   \n",
       "3             R$ 635.000     Tamanho do imóvel73 m²    Quantidade de quartos3   \n",
       "4             R$ 499.000     Tamanho do imóvel91 m²    Quantidade de quartos3   \n",
       "\n",
       "                    Banheiros                            Vagas  \\\n",
       "0    Quantidade de banheiros3  Quantidade de vagas de garagem2   \n",
       "1  Quantidade de banheiros1-2  Quantidade de vagas de garagem1   \n",
       "2    Quantidade de banheiros4  Quantidade de vagas de garagem3   \n",
       "3    Quantidade de banheiros2  Quantidade de vagas de garagem2   \n",
       "4    Quantidade de banheiros3  Quantidade de vagas de garagem2   \n",
       "\n",
       "                                              Bairro  \n",
       "0  Apartamento para comprar emEngenheiro Luciano ...  \n",
       "1      Apartamento para comprar emAldeota, Fortaleza  \n",
       "2      Apartamento para comprar emAldeota, Fortaleza  \n",
       "3  Apartamento para comprar emPresidente Kennedy,...  \n",
       "4         Apartamento para comprar emCocó, Fortaleza  "
      ]
     },
     "execution_count": 50,
     "metadata": {},
     "output_type": "execute_result"
    }
   ],
   "source": [
    "df = pd.read_csv('imoveis_zap_fortaleza.csv',sep=\";\")\n",
    "df.head()"
   ]
  },
  {
   "cell_type": "code",
   "execution_count": 51,
   "id": "49bc04b6",
   "metadata": {},
   "outputs": [],
   "source": [
    "df_limpo = df.copy()"
   ]
  },
  {
   "cell_type": "code",
   "execution_count": 52,
   "id": "f22e3364",
   "metadata": {},
   "outputs": [
    {
     "name": "stdout",
     "output_type": "stream",
     "text": [
      "<class 'pandas.core.frame.DataFrame'>\n",
      "RangeIndex: 1770 entries, 0 to 1769\n",
      "Data columns (total 6 columns):\n",
      " #   Column     Non-Null Count  Dtype \n",
      "---  ------     --------------  ----- \n",
      " 0   Preco      1770 non-null   object\n",
      " 1   Tamanho    1770 non-null   object\n",
      " 2   Quartos    1770 non-null   object\n",
      " 3   Banheiros  1770 non-null   object\n",
      " 4   Vagas      1770 non-null   object\n",
      " 5   Bairro     1770 non-null   object\n",
      "dtypes: object(6)\n",
      "memory usage: 83.1+ KB\n"
     ]
    }
   ],
   "source": [
    "df_limpo.info()"
   ]
  },
  {
   "cell_type": "markdown",
   "id": "a96903bd",
   "metadata": {},
   "source": [
    "## *Coluna Preço*"
   ]
  },
  {
   "cell_type": "code",
   "execution_count": 53,
   "id": "af78fc19",
   "metadata": {},
   "outputs": [],
   "source": [
    "df_limpo['Preco'] = df_limpo['Preco'].str.replace(r'[^\\d.]', '', regex=True) # r'[^\\d.]'Remove tudo que NÃO é dígito (\\d) ou ponto (.).\n",
    "df_limpo['Preco'] = df_limpo['Preco'].str.replace('.','')\n",
    "#Converte a coluna para um tipo numérico /  O 'errors='coerce'':se um valor não puder ser convertido como uma string vazia, ele será transformado em NaN (Not a Number)\n",
    "df_limpo['Preco'] = pd.to_numeric(df_limpo['Preco'],errors='coerce')\n"
   ]
  },
  {
   "cell_type": "markdown",
   "id": "d32ad5f2",
   "metadata": {},
   "source": [
    "## *Coluna Tamanho*"
   ]
  },
  {
   "cell_type": "code",
   "execution_count": 54,
   "id": "a307f0c3",
   "metadata": {},
   "outputs": [],
   "source": [
    "df_limpo['Tamanho'] = df_limpo['Tamanho'].str.replace('Tamanho do imóvel','').str.replace('m²','')"
   ]
  },
  {
   "cell_type": "code",
   "execution_count": 55,
   "id": "4274bd4f",
   "metadata": {},
   "outputs": [],
   "source": [
    "#Aplicação da função à coluna 'Tamanho' original\n",
    "df_limpo['Tamanho_Limpo'] = df_limpo['Tamanho'].apply(calcular_media_faixa)\n",
    "#Coluna seja numérica\n",
    "df_limpo['Tamanho_Limpo'] = pd.to_numeric(df_limpo['Tamanho_Limpo'], errors='coerce')"
   ]
  },
  {
   "cell_type": "markdown",
   "id": "e8107dba",
   "metadata": {},
   "source": [
    "## *Coluna Quartos*"
   ]
  },
  {
   "cell_type": "code",
   "execution_count": 56,
   "id": "6834a4d1",
   "metadata": {},
   "outputs": [],
   "source": [
    "df_limpo['Quartos'] = df_limpo['Quartos'].str.replace('Quantidade de quartos','')"
   ]
  },
  {
   "cell_type": "code",
   "execution_count": 57,
   "id": "3334cb4f",
   "metadata": {},
   "outputs": [],
   "source": [
    "#Aplicação da função à coluna 'Quartos' original --> porém será arrendado para o maior valor\n",
    "df_limpo['Quartos_limpo'] = df_limpo['Quartos'].apply(calcular_media_faixa)\n",
    "#Coluna seja numérica\n",
    "df_limpo['Quartos_limpo'] = pd.to_numeric(df_limpo['Quartos_limpo'], errors='coerce')\n",
    "df_limpo['Quartos_limpo'] = df_limpo['Quartos_limpo'].apply(lambda x: math.ceil(x) if pd.notna(x) else x) #Aplicando arredondamento"
   ]
  },
  {
   "cell_type": "markdown",
   "id": "3df90cf9",
   "metadata": {},
   "source": [
    "## *Coluna Banheiros*"
   ]
  },
  {
   "cell_type": "code",
   "execution_count": 58,
   "id": "41e1c14f",
   "metadata": {},
   "outputs": [],
   "source": [
    "df_limpo['Banheiros'] = df_limpo['Banheiros'].str.replace('Quantidade de banheiros','')"
   ]
  },
  {
   "cell_type": "code",
   "execution_count": 59,
   "id": "029a32de",
   "metadata": {},
   "outputs": [],
   "source": [
    "#Aplicação da função à coluna 'Quartos' original --> porém será arrendado para o maior valor\n",
    "df_limpo['Banheiros_limpo'] = df_limpo['Banheiros'].apply(calcular_media_faixa)\n",
    "#Coluna seja numérica\n",
    "df_limpo['Banheiros_limpo'] = pd.to_numeric(df_limpo['Banheiros_limpo'], errors='coerce')\n",
    "df_limpo['Banheiros_limpo'] = df_limpo['Banheiros_limpo'].apply(lambda x: math.ceil(x) if pd.notna(x) else x) #Aplicando arredondamento"
   ]
  },
  {
   "cell_type": "markdown",
   "id": "de23ce2e",
   "metadata": {},
   "source": [
    "## *Coluna Vagas*"
   ]
  },
  {
   "cell_type": "code",
   "execution_count": 60,
   "id": "77b7cbce",
   "metadata": {},
   "outputs": [],
   "source": [
    "df_limpo['Vagas'] = df_limpo['Vagas'].str.replace('Quantidade de vagas de garagem','')"
   ]
  },
  {
   "cell_type": "code",
   "execution_count": 62,
   "id": "f1b770a4",
   "metadata": {},
   "outputs": [],
   "source": [
    "#Aplicação da função à coluna 'Quartos' original --> porém será arrendado para o maior valor\n",
    "df_limpo['Vagas_limpo'] = df_limpo['Vagas'].apply(calcular_media_faixa)\n",
    "#Coluna seja numérica\n",
    "df_limpo['Vagas_limpo'] = pd.to_numeric(df_limpo['Vagas_limpo'], errors='coerce')\n",
    "df_limpo['Vagas_limpo'] = df_limpo['Vagas_limpo'].apply(lambda x: math.ceil(x) if pd.notna(x) else x) #Aplicando arredondamento"
   ]
  },
  {
   "cell_type": "markdown",
   "id": "518ba40b",
   "metadata": {},
   "source": [
    "## *Coluna Bairro*"
   ]
  },
  {
   "cell_type": "code",
   "execution_count": 63,
   "id": "a6f4cd38",
   "metadata": {},
   "outputs": [],
   "source": [
    "df_limpo['Bairro'] = df_limpo['Bairro'].str.replace('Apartamento para comprar em','').str.replace(', Fortaleza','')"
   ]
  },
  {
   "cell_type": "markdown",
   "id": "dbd777b2",
   "metadata": {},
   "source": [
    "## *Dropando Colunas de apoio e renomeando*"
   ]
  },
  {
   "cell_type": "code",
   "execution_count": 64,
   "id": "4fbadc72",
   "metadata": {},
   "outputs": [],
   "source": [
    "#Drop das colunas\n",
    "df_limpo = df_limpo.drop(['Tamanho','Quartos','Banheiros','Vagas'],axis=1)"
   ]
  },
  {
   "cell_type": "code",
   "execution_count": 65,
   "id": "4a9e88ef",
   "metadata": {},
   "outputs": [],
   "source": [
    "#Renomeando colunas\n",
    "df_limpo.rename(columns={'Tamanho_Limpo': 'tamanho (m²)',\n",
    "                         'Quartos_limpo':'qtd_quartos',\n",
    "                         'Banheiros_limpo':'qtd_banheiro',\n",
    "                         'Vagas_limpo':'qtd_vagas'},\n",
    "                           inplace=True)"
   ]
  },
  {
   "cell_type": "markdown",
   "id": "022b7fea",
   "metadata": {},
   "source": [
    "# *Salvando base de dados final*"
   ]
  },
  {
   "cell_type": "code",
   "execution_count": 66,
   "id": "965fcdec",
   "metadata": {},
   "outputs": [
    {
     "name": "stdout",
     "output_type": "stream",
     "text": [
      "<class 'pandas.core.frame.DataFrame'>\n",
      "RangeIndex: 1770 entries, 0 to 1769\n",
      "Data columns (total 6 columns):\n",
      " #   Column        Non-Null Count  Dtype  \n",
      "---  ------        --------------  -----  \n",
      " 0   Preco         1611 non-null   float64\n",
      " 1   Bairro        1770 non-null   object \n",
      " 2   tamanho (m²)  1770 non-null   float64\n",
      " 3   qtd_quartos   1770 non-null   int64  \n",
      " 4   qtd_banheiro  1770 non-null   int64  \n",
      " 5   qtd_vagas     1711 non-null   float64\n",
      "dtypes: float64(3), int64(2), object(1)\n",
      "memory usage: 83.1+ KB\n"
     ]
    }
   ],
   "source": [
    "df_limpo.info()"
   ]
  },
  {
   "cell_type": "code",
   "execution_count": 67,
   "id": "71f14a82",
   "metadata": {},
   "outputs": [],
   "source": [
    "#Salvando em arquivo CSV\n",
    "nome_do_arquivo = 'imoveis_zap_fortaleza_ready.csv'\n",
    "df_limpo.to_csv(nome_do_arquivo, index=False, sep=';', encoding='utf-8-sig')"
   ]
  }
 ],
 "metadata": {
  "kernelspec": {
   "display_name": "projeto-igor-py3.10",
   "language": "python",
   "name": "python3"
  },
  "language_info": {
   "codemirror_mode": {
    "name": "ipython",
    "version": 3
   },
   "file_extension": ".py",
   "mimetype": "text/x-python",
   "name": "python",
   "nbconvert_exporter": "python",
   "pygments_lexer": "ipython3",
   "version": "3.10.11"
  }
 },
 "nbformat": 4,
 "nbformat_minor": 5
}
